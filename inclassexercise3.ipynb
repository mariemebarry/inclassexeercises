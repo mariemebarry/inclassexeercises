{
 "cells": [
  {
   "cell_type": "code",
   "execution_count": null,
   "id": "7c8f19a2",
   "metadata": {},
   "outputs": [],
   "source": [
    "# Marieme Barry\n",
    "# Advanced Python for Business"
   ]
  },
  {
   "cell_type": "code",
   "execution_count": 1,
   "id": "9a6fd873",
   "metadata": {},
   "outputs": [],
   "source": [
    "# use openpyxl to load the workbook\n",
    "\n",
    "from openpyxl import load_workbook\n",
    "workbook = load_workbook('EcarSalesByCountryAndYear2.xlsx', data_only = True)"
   ]
  },
  {
   "cell_type": "code",
   "execution_count": 2,
   "id": "7c869098",
   "metadata": {},
   "outputs": [
    {
     "data": {
      "text/plain": [
       "<Worksheet \"Documentation\">"
      ]
     },
     "execution_count": 2,
     "metadata": {},
     "output_type": "execute_result"
    }
   ],
   "source": [
    "# access the 'Documentation' worksheet tab using workbook[]\n",
    "\n",
    "worksheet = workbook['Documentation']\n",
    "worksheet"
   ]
  },
  {
   "cell_type": "code",
   "execution_count": 5,
   "id": "d482449b",
   "metadata": {},
   "outputs": [
    {
     "data": {
      "text/plain": [
       "'https://en.wikipedia.org/wiki/Electric_car_use_by_country'"
      ]
     },
     "execution_count": 5,
     "metadata": {},
     "output_type": "execute_result"
    }
   ],
   "source": [
    "# access and display the value of cell B2 (the data source for the workbook)\n",
    "\n",
    "cell = worksheet.cell(row = 2, column = 2)\n",
    "cell.value"
   ]
  },
  {
   "cell_type": "code",
   "execution_count": 7,
   "id": "a13de9b2",
   "metadata": {},
   "outputs": [
    {
     "data": {
      "text/plain": [
       "'s'"
      ]
     },
     "execution_count": 7,
     "metadata": {},
     "output_type": "execute_result"
    }
   ],
   "source": [
    "cell.data_type"
   ]
  }
 ],
 "metadata": {
  "kernelspec": {
   "display_name": "Python 3 (ipykernel)",
   "language": "python",
   "name": "python3"
  },
  "language_info": {
   "codemirror_mode": {
    "name": "ipython",
    "version": 3
   },
   "file_extension": ".py",
   "mimetype": "text/x-python",
   "name": "python",
   "nbconvert_exporter": "python",
   "pygments_lexer": "ipython3",
   "version": "3.9.13"
  }
 },
 "nbformat": 4,
 "nbformat_minor": 5
}
